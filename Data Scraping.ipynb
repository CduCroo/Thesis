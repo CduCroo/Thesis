{
 "cells": [
  {
   "cell_type": "code",
   "execution_count": 5,
   "id": "eff7cf3b-b797-4ab1-a5b5-ccab23b7bb9f",
   "metadata": {},
   "outputs": [],
   "source": [
    "# imports\n",
    "import os\n",
    "import pandas as pd"
   ]
  },
  {
   "cell_type": "code",
   "execution_count": 6,
   "id": "47c54dbc-6177-4042-9b6e-2eb7685ae380",
   "metadata": {},
   "outputs": [],
   "source": [
    "def convert_xls_to_csv(xls_file, csv_file, output_folder):\n",
    "    try:\n",
    "        # Check if the file is HTML by reading the first few bytes\n",
    "        with open(xls_file, 'rb') as f:\n",
    "            start_bytes = f.read(5)\n",
    "            if start_bytes == b'<?xml':  # Check for XML format\n",
    "                df = pd.read_excel(xls_file, sheet_name=None, engine='openpyxl')\n",
    "            elif start_bytes[:5] == b'<html':  # Check for HTML\n",
    "                df = pd.read_html(xls_file)\n",
    "                for i, table in enumerate(df):\n",
    "                    table.to_csv(os.path.join(output_folder, f\"{csv_file}.csv\"), index=False)\n",
    "                return  # Exit the function after processing HTML\n",
    "            else:\n",
    "                df = pd.read_excel(xls_file, sheet_name=None, engine='xlrd')  # Try xlrd for .xls\n",
    "\n",
    "    except Exception as e:\n",
    "        print(f\"Error processing {xls_file}: {e}\")\n",
    "        return\n",
    "\n",
    "    # Convert each sheet to a CSV file\n",
    "    for sheet_name, data in df.items():\n",
    "        print(f\"Converting sheet: {sheet_name}\")\n",
    "        # Save the sheet to a CSV file in the output folder\n",
    "        data.to_csv(os.path.join(output_folder, f\"{csv_file}.csv\"), index=False)\n",
    "\n",
    "    print(f\"Conversion complete for {xls_file}.\")\n",
    "\n",
    "def convert_all_xls_in_folder(folder_path, output_folder):\n",
    "    # Ensure the output folder exists\n",
    "    if not os.path.exists(output_folder):\n",
    "        os.makedirs(output_folder)\n",
    "\n",
    "    # Iterate over all files in the folder\n",
    "    for file_name in os.listdir(folder_path):\n",
    "        if file_name.endswith('.xls') or file_name.endswith('.xlsx'):\n",
    "            xls_file = os.path.join(folder_path, file_name)\n",
    "            csv_file = file_name.split('.')[0]  # File name without extension\n",
    "            convert_xls_to_csv(xls_file, csv_file, output_folder)"
   ]
  },
  {
   "cell_type": "code",
   "execution_count": 7,
   "id": "4c38b494-0027-46f8-ae58-dba3838a3a2b",
   "metadata": {},
   "outputs": [],
   "source": [
    "# convert season stats to csv\n",
    "folder_path = 'season stats'\n",
    "output_folder = 'season stats csv'\n",
    "convert_all_xls_in_folder(folder_path, output_folder)"
   ]
  },
  {
   "cell_type": "code",
   "execution_count": 12,
   "id": "3897d6c3-5203-46cc-9bca-5f918b0e9d73",
   "metadata": {},
   "outputs": [],
   "source": [
    "# Function to get df of games from season\n",
    "def get_df_games(url, year):\n",
    "    # get tables from webpage\n",
    "    tables = pd.read_html(url)\n",
    "    \n",
    "    # first table has regular season data\n",
    "    games = tables[0]\n",
    "    \n",
    "    # rename columns\n",
    "    games = games.rename(columns={\n",
    "        'G': 'G_Visitor',\n",
    "        'G.1': 'G_Home',\n",
    "        'Unnamed: 6': 'OT_SO',\n",
    "        'Att.': 'Attendance'\n",
    "    })\n",
    "    \n",
    "    # convert date entries to datetime\n",
    "    games['Date'] = pd.to_datetime(games['Date'])\n",
    "    \n",
    "    # add weekday column\n",
    "    games['Day'] = games['Date'].dt.day_name()\n",
    "    \n",
    "    # convert time entries to datetime\n",
    "    games['Time'] = pd.to_datetime(games['Time'], format='%I:%M %p').dt.time\n",
    "\n",
    "    # Create folder 'season results' if it doesn't exist\n",
    "    folder_path = 'season results'\n",
    "    if not os.path.exists(folder_path):\n",
    "        os.makedirs(folder_path)\n",
    "\n",
    "    # Save the dataframe as a CSV file\n",
    "    season_str = f\"{year - 1}-{str(year)[2:]}\"\n",
    "    file_name = f\"{season_str} season results.csv\"\n",
    "    file_path = os.path.join(folder_path, file_name)\n",
    "    games.to_csv(file_path, index=False)\n",
    "\n",
    "    print(f\"Season results saved as {file_path}\")"
   ]
  },
  {
   "cell_type": "code",
   "execution_count": 14,
   "id": "1365831c-b472-4d2c-8e24-7f4aa65472e1",
   "metadata": {},
   "outputs": [
    {
     "name": "stdout",
     "output_type": "stream",
     "text": [
      "Season results saved as season results/2013-14 season results.csv\n",
      "Season results saved as season results/2014-15 season results.csv\n",
      "Season results saved as season results/2015-16 season results.csv\n",
      "Season results saved as season results/2016-17 season results.csv\n",
      "Season results saved as season results/2017-18 season results.csv\n",
      "Season results saved as season results/2018-19 season results.csv\n",
      "Season results saved as season results/2019-20 season results.csv\n",
      "Season results saved as season results/2020-21 season results.csv\n",
      "Season results saved as season results/2021-22 season results.csv\n",
      "Season results saved as season results/2022-23 season results.csv\n",
      "Season results saved as season results/2023-24 season results.csv\n"
     ]
    }
   ],
   "source": [
    "url_base = 'https://www.hockey-reference.com/leagues/NHL_{year}_games.html'\n",
    "\n",
    "for year in range(2014, 2025):\n",
    "    url = url_base.format(year = year)\n",
    "    get_df_games(url, year)"
   ]
  }
 ],
 "metadata": {
  "kernelspec": {
   "display_name": "Python 3 (ipykernel)",
   "language": "python",
   "name": "python3"
  },
  "language_info": {
   "codemirror_mode": {
    "name": "ipython",
    "version": 3
   },
   "file_extension": ".py",
   "mimetype": "text/x-python",
   "name": "python",
   "nbconvert_exporter": "python",
   "pygments_lexer": "ipython3",
   "version": "3.12.2"
  }
 },
 "nbformat": 4,
 "nbformat_minor": 5
}
